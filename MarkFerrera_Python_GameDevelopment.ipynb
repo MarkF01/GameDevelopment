{
 "cells": [
  {
   "cell_type": "markdown",
   "id": "9203df88-650e-4cf7-b0f0-75d90193c769",
   "metadata": {},
   "source": [
    "<h1 style=\"text-align:center; font-size: 5em;\">Project: Guess The Number</h1>\n",
    "<hr style=\"border:2px solid\">\n",
    "<h1 style=\"text-align:center; font-size: 3em;\">Overview</h1>\n",
    "<hr style=\"border-top:1px dashed\">\n",
    "\n",
    "## Game Rules:\n",
    "- The play_the_game() function needs to be run, to initialise the game\n",
    "- Select a valid upper and lower bound to start the game. \n",
    "- Guess the mystery number based on your given range\n",
    "- Try to answer within the attempts given\n",
    "- The higher the range, the higher the difficulty. Attempts will increase based on difficulty\n",
    "- Once the game is over, rerun the function again.\n"
   ]
  },
  {
   "cell_type": "code",
   "execution_count": 39,
   "id": "c3086f55-2997-4b8d-acf0-58a3db93af7f",
   "metadata": {},
   "outputs": [
    {
     "name": "stdout",
     "output_type": "stream",
     "text": [
      "Welcome to the game! You can select any number for your lower and upper bounds from 0 to 300\n"
     ]
    },
    {
     "name": "stdin",
     "output_type": "stream",
     "text": [
      "Select your lower bound: 1\n"
     ]
    },
    {
     "name": "stdout",
     "output_type": "stream",
     "text": [
      "\n"
     ]
    },
    {
     "name": "stdin",
     "output_type": "stream",
     "text": [
      "Select your upper bound: 400\n"
     ]
    },
    {
     "name": "stdout",
     "output_type": "stream",
     "text": [
      "Invalid bound. Lower bound < upper bound or within 0 to 300!\n"
     ]
    },
    {
     "name": "stdin",
     "output_type": "stream",
     "text": [
      "Select your lower bound: 300\n"
     ]
    },
    {
     "name": "stdout",
     "output_type": "stream",
     "text": [
      "\n"
     ]
    },
    {
     "name": "stdin",
     "output_type": "stream",
     "text": [
      "Select your upper bound: 300\n"
     ]
    },
    {
     "name": "stdout",
     "output_type": "stream",
     "text": [
      "Invalid bound. Lower bound < upper bound or within 0 to 300!\n"
     ]
    },
    {
     "name": "stdin",
     "output_type": "stream",
     "text": [
      "Select your lower bound: 100\n"
     ]
    },
    {
     "name": "stdout",
     "output_type": "stream",
     "text": [
      "\n"
     ]
    },
    {
     "name": "stdin",
     "output_type": "stream",
     "text": [
      "Select your upper bound: 200\n"
     ]
    },
    {
     "name": "stdout",
     "output_type": "stream",
     "text": [
      "Valid bound! Guess a number between 100 and 200\n",
      "156\n",
      "You have 12 attempts.\n"
     ]
    },
    {
     "name": "stdin",
     "output_type": "stream",
     "text": [
      "Your guess is: 156\n"
     ]
    },
    {
     "name": "stdout",
     "output_type": "stream",
     "text": [
      "Amazing! You got it on attempt number 1 , well done!\n"
     ]
    }
   ],
   "source": [
    "import random\n",
    "def is_an_integer(bound_input):\n",
    "    \"\"\"\n",
    "    is_an_integer: This function ensures that the user input is an integer.\n",
    "\n",
    "    bound_input (str): The prompt to be displayed to the user.\n",
    "\n",
    "    returns: It returns the user input, converted into an integer.\n",
    "    \"\"\"\n",
    "    while True:\n",
    "        try:\n",
    "            user_input = int(input(bound_input))\n",
    "            return user_input\n",
    "        except ValueError:\n",
    "            #If user does not enter an integer, the print will show\n",
    "            print('Invalid input! Please enter an integer.') \n",
    "            \n",
    "def validate_bound():\n",
    "    \"\"\"\n",
    "    validate_bound: This function validates the user's input of lower and upper bounds.\n",
    "\n",
    "    returns: It returns a tuple containing the lower and upper bounds.\n",
    "    \"\"\"\n",
    "    while True:\n",
    "        try:\n",
    "            lower_bound = is_an_integer('Select your lower bound:') \n",
    "            print('')\n",
    "            upper_bound = is_an_integer('Select your upper bound:')\n",
    "            if (lower_bound  >= 0 #Limits the lower bound to be greater or equal than 0 \n",
    "                and lower_bound < upper_bound #Checks that the lower bound is smaller than the upper bound\n",
    "                and upper_bound <= 300): #Limits the upper bound to be less or equal than 300\n",
    "                #if they meet both conditions, the print below will show\n",
    "                print(f'Valid bound! Guess a number between {lower_bound} and {upper_bound}')\n",
    "                return lower_bound, upper_bound\n",
    "            else:\n",
    "                #When conditions are not met, the print below will show until the condition is met\n",
    "                print('Invalid bound. Lower bound < upper bound or within 0 to 300!')\n",
    "        except ValueError:\n",
    "            print('Invalid! Please enter a valid bound')\n",
    "\n",
    "def validate_guess(lower_bound, upper_bound):\n",
    "    \"\"\"\n",
    "    validate_guess: This function validates the user's guess.\n",
    "\n",
    "    lower_bound(int): It is the lower_bound selected by the user.\n",
    "\n",
    "    upper_bound(int): It is the upper_bound selected by the user.\n",
    "\n",
    "    returns: it returns the user's guess\n",
    "    \"\"\"\n",
    "    while True:\n",
    "        try:\n",
    "            guess = int(input(f'Your guess is:'))\n",
    "            if lower_bound <= guess <= upper_bound:\n",
    "                return guess\n",
    "            else:\n",
    "                print(f'Invalid guess! Please enter a number between {lower_bound} and {upper_bound}')\n",
    "        except ValueError:\n",
    "            print('Invalid guess! Please enter a valid format')\n",
    "\n",
    "def number_of_attempts(lower_bound,upper_bound):\n",
    "    \"\"\"\n",
    "    number_of_attempts: This function calculates the number of attempts allowed based on the difference\n",
    "    between the upper and lower bounds. \n",
    "\n",
    "    lower_bound(int) : It is the lower_bound selected by the user.\n",
    "\n",
    "    upper_bound(int) : It is the upper_bound selected by the user.\n",
    "\n",
    "    returns: This will return the number of attempts.\n",
    "    \"\"\"\n",
    "    #if the range is less than 10, 3 attempts are allowed\n",
    "    if upper_bound - lower_bound < 10:\n",
    "        attempts = 3\n",
    "    #if the range is less than 40, 6 attempts are allowed\n",
    "    elif upper_bound - lower_bound < 40:\n",
    "        attempts = 6\n",
    "    #if the range is less than 100, 9 attempts are allowed\n",
    "    elif upper_bound - lower_bound < 100:\n",
    "        attempts = 9\n",
    "    #if the range is less than 100, 12 attempts are allowed\n",
    "    elif upper_bound - lower_bound < 200:\n",
    "        attempts = 12\n",
    "    #if the range is bigger than 200, 15 attempts are allowed\n",
    "    else:\n",
    "        attempts = 15\n",
    "    return attempts\n",
    "    \n",
    "def feedback_based_on_guess(guess,mystery_number):\n",
    "    \"\"\"\n",
    "    feedback_based_on_guess: This function provides feedback to the user based on their guess.\n",
    "\n",
    "    guess(int): It is the user's guess.\n",
    "\n",
    "    mystery_number(int): It is the number generated randomly using the upper and lower bounds given.\n",
    "\n",
    "    returns: It returns feedback based on their guess to help them get the correct answer.\n",
    "    \"\"\"\n",
    "    if guess > mystery_number:\n",
    "        #if the condition is met:\n",
    "        return 'It is a lower number'\n",
    "    else:\n",
    "        #if not:\n",
    "        return 'It is a higher number'\n",
    "        \n",
    "def play_the_game(): #Initiates the game\n",
    "    print('Welcome to the game! You can select any number for your lower and upper bounds from 0 to 300')       \n",
    "    attempts = 0\n",
    "    #Validates the user's bounds input\n",
    "    lower_bound,upper_bound = validate_bound()\n",
    "    #Assigns a random number based on the upper and lower bound\n",
    "    mystery_number = random.randint(lower_bound,upper_bound)\n",
    "    print(mystery_number)\n",
    "    #Tells you how many attempts you have based on your bounds\n",
    "    print(f'You have {number_of_attempts(lower_bound,upper_bound)} attempts.')\n",
    "    \"\"\"\n",
    "    while loop: It will run until the condition is met, it ensures that the player\n",
    "    is not allowed to guess more than the specified number of attempts.\n",
    "    \"\"\"\n",
    "    while attempts < number_of_attempts(lower_bound,upper_bound):\n",
    "        guess = validate_guess(lower_bound,upper_bound)\n",
    "        feedback = feedback_based_on_guess(guess,mystery_number)\n",
    "        if guess == mystery_number:\n",
    "            #If the guess is correct, the print below will show\n",
    "            print(f'Amazing! You got it on attempt number {attempts+1} , well done!')\n",
    "            break\n",
    "        else:\n",
    "            #If the guess is incorrect, it will give you feedback and allow you to guess again\n",
    "            print(f'{feedback}, try again!')\n",
    "            #It prints how many attempts you have left\n",
    "            print('Attempts left', (number_of_attempts(lower_bound,upper_bound)-1) - attempts )\n",
    "            attempts = attempts + 1\n",
    "            #Once you run out of attempts, the game will stop and the print will show.\n",
    "            if attempts == number_of_attempts(lower_bound,upper_bound):\n",
    "                print(f'Game over, the secret number was {mystery_number}, restart the game!') \n",
    "play_the_game()"
   ]
  },
  {
   "cell_type": "code",
   "execution_count": null,
   "id": "72d70278-dba1-43dc-b86a-4592a5ff0dbc",
   "metadata": {},
   "outputs": [],
   "source": []
  },
  {
   "cell_type": "code",
   "execution_count": null,
   "id": "f7f024c2-37a5-4acd-bf90-a11cefaecf1a",
   "metadata": {},
   "outputs": [],
   "source": []
  }
 ],
 "metadata": {
  "kernelspec": {
   "display_name": "Python 3 (ipykernel)",
   "language": "python",
   "name": "python3"
  },
  "language_info": {
   "codemirror_mode": {
    "name": "ipython",
    "version": 3
   },
   "file_extension": ".py",
   "mimetype": "text/x-python",
   "name": "python",
   "nbconvert_exporter": "python",
   "pygments_lexer": "ipython3",
   "version": "3.11.7"
  }
 },
 "nbformat": 4,
 "nbformat_minor": 5
}
